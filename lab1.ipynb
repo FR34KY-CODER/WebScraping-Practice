{
 "cells": [
  {
   "cell_type": "code",
   "execution_count": 1,
   "id": "c18afee9",
   "metadata": {},
   "outputs": [],
   "source": [
    "from bs4 import BeautifulSoup"
   ]
  },
  {
   "cell_type": "code",
   "execution_count": null,
   "id": "c62d226e",
   "metadata": {},
   "outputs": [],
   "source": [
    "#importing the HTML file\n",
    "HTMLfilePath = \"lab1.html\"\n",
    "with open(HTMLfilePath, \"r\") as organisation:\n",
    "    soup = BeautifulSoup(organisation, \"html\")"
   ]
  },
  {
   "cell_type": "code",
   "execution_count": 7,
   "id": "3a21c610",
   "metadata": {},
   "outputs": [
    {
     "data": {
      "text/plain": [
       "[<html>\n",
       " <head>\n",
       " <title>Web Scrapping Demo</title>\n",
       " </head><body>\n",
       " <div class=\"organizationlist\">\n",
       " <ul id=\"HR\">\n",
       " <li class=\"HRmanager\">\n",
       " <div class=\"name\">Jack</div>\n",
       " <div class=\"ID\">101</div>\n",
       " </li>\n",
       " <li class=\"HRmanager\">\n",
       " <div class=\"name\">Kelly</div>\n",
       " <div class=\"ID\">103</div>\n",
       " </li>\n",
       " </ul>\n",
       " <ul id=\"IT\">\n",
       " <li class=\"ITmanager\">\n",
       " <div class=\"name\">Daren</div>\n",
       " <div class=\"ID\">65</div>\n",
       " </li>\n",
       " </ul>\n",
       " <ul class=\"GENmanager\" id=\"Finance\">\n",
       " <div class=\"name\">Sammy</div>\n",
       " <div class=\"ID\">007</div>\n",
       " 1i&gt;\n",
       " <li class=\"AccManager\">\n",
       " <div class=\"name\">Joseph</div>\n",
       " <div class=\"ID\">097</div>\n",
       " </li>\n",
       " </ul>\n",
       " </div>\n",
       " </body>\n",
       " </html>]"
      ]
     },
     "execution_count": 7,
     "metadata": {},
     "output_type": "execute_result"
    }
   ],
   "source": [
    "soup.contents"
   ]
  },
  {
   "cell_type": "code",
   "execution_count": 9,
   "id": "3131b186",
   "metadata": {},
   "outputs": [],
   "source": [
    "#search using the find methods\n",
    "tag_li = soup.find(\"li\")"
   ]
  },
  {
   "cell_type": "code",
   "execution_count": 10,
   "id": "c668f643",
   "metadata": {},
   "outputs": [
    {
     "name": "stdout",
     "output_type": "stream",
     "text": [
      "<li class=\"HRmanager\">\n",
      "<div class=\"name\">Jack</div>\n",
      "<div class=\"ID\">101</div>\n",
      "</li>\n"
     ]
    }
   ],
   "source": [
    "print(tag_li)"
   ]
  },
  {
   "cell_type": "code",
   "execution_count": 11,
   "id": "f42d763e",
   "metadata": {},
   "outputs": [],
   "source": [
    "find_id = soup.find(id = 'HR')"
   ]
  },
  {
   "cell_type": "code",
   "execution_count": 12,
   "id": "08fc7eaa",
   "metadata": {},
   "outputs": [
    {
     "name": "stdout",
     "output_type": "stream",
     "text": [
      "<ul id=\"HR\">\n",
      "<li class=\"HRmanager\">\n",
      "<div class=\"name\">Jack</div>\n",
      "<div class=\"ID\">101</div>\n",
      "</li>\n",
      "<li class=\"HRmanager\">\n",
      "<div class=\"name\">Kelly</div>\n",
      "<div class=\"ID\">103</div>\n",
      "</li>\n",
      "</ul>\n"
     ]
    }
   ],
   "source": [
    "print(find_id)"
   ]
  },
  {
   "cell_type": "code",
   "execution_count": 14,
   "id": "158e0c55",
   "metadata": {},
   "outputs": [
    {
     "name": "stdout",
     "output_type": "stream",
     "text": [
      "Jack\n"
     ]
    }
   ],
   "source": [
    "#print the string value directly\n",
    "print(find_id.li.div.string)"
   ]
  },
  {
   "cell_type": "code",
   "execution_count": 17,
   "id": "1d49812d",
   "metadata": {},
   "outputs": [],
   "source": [
    "search_for_StringOnly = soup.find_all(string=[\"Kelly\", \"Jack\"])"
   ]
  },
  {
   "cell_type": "code",
   "execution_count": 18,
   "id": "a7cb5712",
   "metadata": {},
   "outputs": [
    {
     "name": "stdout",
     "output_type": "stream",
     "text": [
      "['Jack', 'Kelly']\n"
     ]
    }
   ],
   "source": [
    "print(search_for_StringOnly)"
   ]
  },
  {
   "cell_type": "code",
   "execution_count": 19,
   "id": "eb1e7926",
   "metadata": {},
   "outputs": [
    {
     "name": "stdout",
     "output_type": "stream",
     "text": [
      "<li class=\"ITmanager\">\n",
      "<div class=\"name\">Daren</div>\n",
      "<div class=\"ID\">65</div>\n",
      "</li>\n"
     ]
    }
   ],
   "source": [
    "#search based on CSS class name (present as an attribute) \n",
    "css_class_search = soup.find(attrs = {\"class\":\"ITmanager\"})\n",
    "print(css_class_search)"
   ]
  },
  {
   "cell_type": "code",
   "execution_count": 22,
   "id": "9bb5c11b",
   "metadata": {},
   "outputs": [
    {
     "name": "stdout",
     "output_type": "stream",
     "text": [
      "Joseph\n"
     ]
    }
   ],
   "source": [
    "def is_account_manager(tag):\n",
    "    return tag.has_attr(\"id\") and tag.get(\"id\") == \"Finance\"\n",
    "account_manager = soup.find(is_account_manager)\n",
    "print(account_manager.li.div.string)"
   ]
  },
  {
   "cell_type": "code",
   "execution_count": 24,
   "id": "3b3d2d47",
   "metadata": {},
   "outputs": [
    {
     "name": "stdout",
     "output_type": "stream",
     "text": [
      "html\n",
      "head\n",
      "title\n",
      "body\n",
      "div\n",
      "ul\n",
      "li\n",
      "div\n",
      "div\n",
      "li\n",
      "div\n",
      "div\n",
      "ul\n",
      "li\n",
      "div\n",
      "div\n",
      "ul\n",
      "div\n",
      "div\n",
      "li\n",
      "div\n",
      "div\n"
     ]
    }
   ],
   "source": [
    "for tag in soup.find_all(True):\n",
    "    print(tag.name)"
   ]
  },
  {
   "cell_type": "code",
   "execution_count": 26,
   "id": "a75e1365",
   "metadata": {},
   "outputs": [
    {
     "data": {
      "text/plain": [
       "bs4.element.ResultSet"
      ]
     },
     "execution_count": 26,
     "metadata": {},
     "output_type": "execute_result"
    }
   ],
   "source": [
    "find_class = soup.find_all(class_='HRmanager')\n",
    "type(find_class)"
   ]
  },
  {
   "cell_type": "code",
   "execution_count": 27,
   "id": "d8fe23e8",
   "metadata": {},
   "outputs": [
    {
     "name": "stdout",
     "output_type": "stream",
     "text": [
      "<li class=\"HRmanager\">\n",
      "<div class=\"name\">Jack</div>\n",
      "<div class=\"ID\">101</div>\n",
      "</li>\n"
     ]
    }
   ],
   "source": [
    "print(find_class[0])"
   ]
  },
  {
   "cell_type": "code",
   "execution_count": 32,
   "id": "d66efb93",
   "metadata": {},
   "outputs": [
    {
     "name": "stdout",
     "output_type": "stream",
     "text": [
      "[<ul id=\"HR\">\n",
      "<li class=\"HRmanager\">\n",
      "<div class=\"name\">Jack</div>\n",
      "<div class=\"ID\">101</div>\n",
      "</li>\n",
      "<li class=\"HRmanager\">\n",
      "<div class=\"name\">Kelly</div>\n",
      "<div class=\"ID\">103</div>\n",
      "</li>\n",
      "</ul>]\n"
     ]
    }
   ],
   "source": [
    "find_parent = find_class.find_parents(\"ul\")\n",
    "print(find_parent)"
   ]
  },
  {
   "cell_type": "code",
   "execution_count": 33,
   "id": "78d6c834",
   "metadata": {},
   "outputs": [],
   "source": [
    "org = soup.find(id = \"IT\")"
   ]
  },
  {
   "cell_type": "code",
   "execution_count": 34,
   "id": "f8d8eadc",
   "metadata": {},
   "outputs": [
    {
     "name": "stdout",
     "output_type": "stream",
     "text": [
      "<ul id=\"IT\">\n",
      "<li class=\"ITmanager\">\n",
      "<div class=\"name\">Daren</div>\n",
      "<div class=\"ID\">65</div>\n",
      "</li>\n",
      "</ul>\n"
     ]
    }
   ],
   "source": [
    "print(org)"
   ]
  },
  {
   "cell_type": "code",
   "execution_count": 36,
   "id": "fe9fc7d3",
   "metadata": {},
   "outputs": [],
   "source": [
    "next_siblings = org.find_next_siblings()"
   ]
  },
  {
   "cell_type": "code",
   "execution_count": 38,
   "id": "01a38679",
   "metadata": {},
   "outputs": [
    {
     "name": "stdout",
     "output_type": "stream",
     "text": [
      "<bound method _deprecated_function_alias.<locals>.alias of <ul id=\"IT\">\n",
      "<li class=\"ITmanager\">\n",
      "<div class=\"name\">Daren</div>\n",
      "<div class=\"ID\">65</div>\n",
      "</li>\n",
      "</ul>>\n"
     ]
    }
   ],
   "source": [
    "parent = org.findParents\n",
    "print(parent)"
   ]
  },
  {
   "cell_type": "code",
   "execution_count": 40,
   "id": "2550ded5",
   "metadata": {},
   "outputs": [
    {
     "name": "stdout",
     "output_type": "stream",
     "text": [
      "[<div class=\"ID\">103</div>, <div class=\"name\">Kelly</div>, <li class=\"HRmanager\">\n",
      "<div class=\"name\">Kelly</div>\n",
      "<div class=\"ID\">103</div>\n",
      "</li>, <div class=\"ID\">101</div>, <div class=\"name\">Jack</div>, <li class=\"HRmanager\">\n",
      "<div class=\"name\">Jack</div>\n",
      "<div class=\"ID\">101</div>\n",
      "</li>, <ul id=\"HR\">\n",
      "<li class=\"HRmanager\">\n",
      "<div class=\"name\">Jack</div>\n",
      "<div class=\"ID\">101</div>\n",
      "</li>\n",
      "<li class=\"HRmanager\">\n",
      "<div class=\"name\">Kelly</div>\n",
      "<div class=\"ID\">103</div>\n",
      "</li>\n",
      "</ul>, <div class=\"organizationlist\">\n",
      "<ul id=\"HR\">\n",
      "<li class=\"HRmanager\">\n",
      "<div class=\"name\">Jack</div>\n",
      "<div class=\"ID\">101</div>\n",
      "</li>\n",
      "<li class=\"HRmanager\">\n",
      "<div class=\"name\">Kelly</div>\n",
      "<div class=\"ID\">103</div>\n",
      "</li>\n",
      "</ul>\n",
      "<ul id=\"IT\">\n",
      "<li class=\"ITmanager\">\n",
      "<div class=\"name\">Daren</div>\n",
      "<div class=\"ID\">65</div>\n",
      "</li>\n",
      "</ul>\n",
      "<ul class=\"GENmanager\" id=\"Finance\">\n",
      "<div class=\"name\">Sammy</div>\n",
      "<div class=\"ID\">007</div>\n",
      "1i&gt;\n",
      "<li class=\"AccManager\">\n",
      "<div class=\"name\">Joseph</div>\n",
      "<div class=\"ID\">097</div>\n",
      "</li>\n",
      "</ul>\n",
      "</div>, <body>\n",
      "<div class=\"organizationlist\">\n",
      "<ul id=\"HR\">\n",
      "<li class=\"HRmanager\">\n",
      "<div class=\"name\">Jack</div>\n",
      "<div class=\"ID\">101</div>\n",
      "</li>\n",
      "<li class=\"HRmanager\">\n",
      "<div class=\"name\">Kelly</div>\n",
      "<div class=\"ID\">103</div>\n",
      "</li>\n",
      "</ul>\n",
      "<ul id=\"IT\">\n",
      "<li class=\"ITmanager\">\n",
      "<div class=\"name\">Daren</div>\n",
      "<div class=\"ID\">65</div>\n",
      "</li>\n",
      "</ul>\n",
      "<ul class=\"GENmanager\" id=\"Finance\">\n",
      "<div class=\"name\">Sammy</div>\n",
      "<div class=\"ID\">007</div>\n",
      "1i&gt;\n",
      "<li class=\"AccManager\">\n",
      "<div class=\"name\">Joseph</div>\n",
      "<div class=\"ID\">097</div>\n",
      "</li>\n",
      "</ul>\n",
      "</div>\n",
      "</body>, <title>Web Scrapping Demo</title>, <head>\n",
      "<title>Web Scrapping Demo</title>\n",
      "</head>, <html>\n",
      "<head>\n",
      "<title>Web Scrapping Demo</title>\n",
      "</head><body>\n",
      "<div class=\"organizationlist\">\n",
      "<ul id=\"HR\">\n",
      "<li class=\"HRmanager\">\n",
      "<div class=\"name\">Jack</div>\n",
      "<div class=\"ID\">101</div>\n",
      "</li>\n",
      "<li class=\"HRmanager\">\n",
      "<div class=\"name\">Kelly</div>\n",
      "<div class=\"ID\">103</div>\n",
      "</li>\n",
      "</ul>\n",
      "<ul id=\"IT\">\n",
      "<li class=\"ITmanager\">\n",
      "<div class=\"name\">Daren</div>\n",
      "<div class=\"ID\">65</div>\n",
      "</li>\n",
      "</ul>\n",
      "<ul class=\"GENmanager\" id=\"Finance\">\n",
      "<div class=\"name\">Sammy</div>\n",
      "<div class=\"ID\">007</div>\n",
      "1i&gt;\n",
      "<li class=\"AccManager\">\n",
      "<div class=\"name\">Joseph</div>\n",
      "<div class=\"ID\">097</div>\n",
      "</li>\n",
      "</ul>\n",
      "</div>\n",
      "</body>\n",
      "</html>]\n"
     ]
    }
   ],
   "source": [
    "all_previous = org.find_all_previous()\n",
    "print(all_previous)"
   ]
  },
  {
   "cell_type": "code",
   "execution_count": 41,
   "id": "2431aa5a",
   "metadata": {},
   "outputs": [
    {
     "name": "stdout",
     "output_type": "stream",
     "text": [
      "[<li class=\"ITmanager\">\n",
      "<div class=\"name\">Daren</div>\n",
      "<div class=\"ID\">65</div>\n",
      "</li>, <div class=\"name\">Daren</div>, <div class=\"ID\">65</div>, <ul class=\"GENmanager\" id=\"Finance\">\n",
      "<div class=\"name\">Sammy</div>\n",
      "<div class=\"ID\">007</div>\n",
      "1i&gt;\n",
      "<li class=\"AccManager\">\n",
      "<div class=\"name\">Joseph</div>\n",
      "<div class=\"ID\">097</div>\n",
      "</li>\n",
      "</ul>, <div class=\"name\">Sammy</div>, <div class=\"ID\">007</div>, <li class=\"AccManager\">\n",
      "<div class=\"name\">Joseph</div>\n",
      "<div class=\"ID\">097</div>\n",
      "</li>, <div class=\"name\">Joseph</div>, <div class=\"ID\">097</div>]\n"
     ]
    }
   ],
   "source": [
    "previous_sibling = org.find_previous_sibling()\n",
    "all_next = org.find_all_next()\n",
    "print(all_next)"
   ]
  },
  {
   "cell_type": "code",
   "execution_count": null,
   "id": "6857dc43",
   "metadata": {},
   "outputs": [
    {
     "name": "stdout",
     "output_type": "stream",
     "text": [
      "\n",
      "abc@example.com\n"
     ]
    }
   ],
   "source": [
    "#use regular expression to search the doc\n",
    "import re\n",
    "email_example = \"\"\"<br/>\n",
    "<p>my email id is</p>\n",
    "abc@example.com\"\"\"\n",
    "soup_email = BeautifulSoup(email_example, \"html\")\n",
    "# emailID_regexp = re.compile(\"\\t+@\\t+\\.\\t+\")\n",
    "# email_id = soup_email.find(string = emailID_regexp) --> Depreceated\n",
    "emailID_regexp = re.compile(r\"\\b[\\w\\.-]+@[\\w\\.-]+\\.\\w+\\b\")\n",
    "email_id = soup_email.find(string=emailID_regexp)\n",
    "print(email_id)"
   ]
  },
  {
   "cell_type": "code",
   "execution_count": null,
   "id": "7ceca6dc",
   "metadata": {},
   "outputs": [],
   "source": []
  }
 ],
 "metadata": {
  "kernelspec": {
   "display_name": "Python 3",
   "language": "python",
   "name": "python3"
  },
  "language_info": {
   "codemirror_mode": {
    "name": "ipython",
    "version": 3
   },
   "file_extension": ".py",
   "mimetype": "text/x-python",
   "name": "python",
   "nbconvert_exporter": "python",
   "pygments_lexer": "ipython3",
   "version": "3.12.10"
  }
 },
 "nbformat": 4,
 "nbformat_minor": 5
}
